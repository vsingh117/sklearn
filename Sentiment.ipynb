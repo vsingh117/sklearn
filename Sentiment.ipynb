{
 "cells": [
  {
   "cell_type": "markdown",
   "id": "emotional-donna",
   "metadata": {},
   "source": [
    "### Reference Video\n",
    "\n",
    "https://www.youtube.com/watch?v=M9Itm95JzL0&t=0s"
   ]
  },
  {
   "cell_type": "code",
   "execution_count": 80,
   "id": "superb-commitment",
   "metadata": {},
   "outputs": [],
   "source": [
    "import random\n",
    "\n",
    "class Sentiment:\n",
    "    NEGATIVE=\"NEGATIVE\"\n",
    "    NEUTRAL=\"NEUTRAL\"\n",
    "    POSITIVE=\"POSITIVE\"\n",
    "\n",
    "\n",
    "class Review:\n",
    "    def __init__(self,text,score):\n",
    "        self.text = text\n",
    "        self.score = score\n",
    "        self.sentiment = self.get_sentiment()\n",
    "        \n",
    "    def get_sentiment(self):\n",
    "        if self.score<=2:\n",
    "            return Sentiment.NEGATIVE\n",
    "        elif self.score == 3:\n",
    "            return Sentiment.NEUTRAL\n",
    "        else:\n",
    "            return Sentiment.POSITIVE\n",
    "        \n",
    "class ReviewContainer :\n",
    "    def __init__(self,reviews):\n",
    "        self.reviews = reviews\n",
    "        \n",
    "    def evenly_distribute(self):\n",
    "        negative = list(filter(lambda x: x.sentiment == Sentiment.NEGATIVE, self.reviews))\n",
    "        positive = list(filter(lambda x: x.sentiment == Sentiment.POSITIVE, self.reviews))\n",
    "        \n",
    "        positive_shrunk = positive[0:len(negative)]\n",
    "        self.reviews = negative + positive_shrunk\n",
    "        random.shuffle(self.reviews)\n",
    "        \n",
    "    def get_text(self):\n",
    "        return [x.text for x in self.reviews]\n",
    "    \n",
    "    def get_sentiment(self):\n",
    "        return[x.sentiment for x in self.reviews]"
   ]
  },
  {
   "cell_type": "code",
   "execution_count": 58,
   "id": "nuclear-bloom",
   "metadata": {},
   "outputs": [
    {
     "data": {
      "text/plain": [
       "'POSITIVE'"
      ]
     },
     "execution_count": 58,
     "metadata": {},
     "output_type": "execute_result"
    }
   ],
   "source": [
    "import json\n",
    "\n",
    "file_name = \"Books_small_10000.json\"   #\"AmazonReviews.json\"\n",
    "\n",
    "reviews = []\n",
    "with open(file_name) as f:\n",
    "    for line in f:\n",
    "        review = json.loads(line)\n",
    "        \n",
    "        reviews.append(Review(review['reviewText'],review['overall']))\n",
    "        \n",
    "reviews[5].sentiment"
   ]
  },
  {
   "cell_type": "code",
   "execution_count": 74,
   "id": "lucky-configuration",
   "metadata": {},
   "outputs": [],
   "source": [
    "# Prep data"
   ]
  },
  {
   "cell_type": "code",
   "execution_count": 82,
   "id": "choice-fifty",
   "metadata": {},
   "outputs": [
    {
     "data": {
      "text/plain": [
       "872"
      ]
     },
     "execution_count": 82,
     "metadata": {},
     "output_type": "execute_result"
    }
   ],
   "source": [
    "from sklearn.model_selection import train_test_split\n",
    "\n",
    "train, test = train_test_split(reviews, test_size=0.33, random_state=42)\n",
    "\n",
    "train_container = ReviewContainer(train)\n",
    "test_container = ReviewContainer(test)\n",
    "\n",
    "\n",
    "len(cont.reviews)\n",
    "#print(\"Sample training independent variable :: \",train[0].text)\n",
    "#print(\"Sample training output variable :: \",train[0].sentiment)"
   ]
  },
  {
   "cell_type": "code",
   "execution_count": 86,
   "id": "impressed-niagara",
   "metadata": {},
   "outputs": [
    {
     "name": "stdout",
     "output_type": "stream",
     "text": [
      "436\n",
      "436\n",
      "208\n",
      "208\n",
      "Number of rows with positive sentiment ::  436\n",
      "Number of rows with negative sentiment ::  436\n"
     ]
    }
   ],
   "source": [
    "train_container.evenly_distribute()\n",
    "train_x = train_container.get_text()  \n",
    "train_y = train_container.get_sentiment()\n",
    "\n",
    "test_container.evenly_distribute()\n",
    "test_x =  test_container.get_text()\n",
    "test_y = test_container.get_sentiment()\n",
    "\n",
    "print(\"Number of rows with positive sentiment :: \",train_y.count(Sentiment.POSITIVE))\n",
    "print(\"Number of rows with negative sentiment :: \",train_y.count(Sentiment.NEGATIVE))"
   ]
  },
  {
   "cell_type": "code",
   "execution_count": 104,
   "id": "portable-program",
   "metadata": {},
   "outputs": [],
   "source": [
    "from sklearn.feature_extraction.text import CountVectorizer, TfidfVectorizer\n",
    "\n",
    "## Limitation of CountVectorizer gives equal weigtage to all words\n",
    "#count_vect = CountVectorizer()\n",
    "count_vect = TfidfVectorizer()\n",
    "train_x_vectors = count_vect.fit_transform(train_x)\n",
    "train_x_vectors.shape\n",
    "\n",
    "test_x_vector = count_vect.transform(test_x)"
   ]
  },
  {
   "cell_type": "code",
   "execution_count": 105,
   "id": "right-flash",
   "metadata": {},
   "outputs": [
    {
     "name": "stdout",
     "output_type": "stream",
     "text": [
      "Soup..Er..Myrtle. Ms. Myrlte was talking to her dog Mtlock when Bettie Easton called. She called about the M.E.L.O.N.S (the letters stand for Mature Elegant Ladies Open Nice Suggestion) The first time she told me about it, I said it made us sound like old hookers.Bettie had been right about one thing.Doris Phillips met me at the door of the Soup kitchen just tickld pink to have a little help.Myrtle had discovered a identity theft ring but did not know who was doing it.\n",
      "[[0. 0. 0. ... 0. 0. 0.]]\n"
     ]
    }
   ],
   "source": [
    "print(train_x[0])\n",
    "print(train_x_vectors[0].toarray())"
   ]
  },
  {
   "cell_type": "markdown",
   "id": "identical-timber",
   "metadata": {},
   "source": [
    "## Classification"
   ]
  },
  {
   "cell_type": "code",
   "execution_count": 106,
   "id": "reverse-seven",
   "metadata": {},
   "outputs": [
    {
     "name": "stdout",
     "output_type": "stream",
     "text": [
      "I just didn't get into it. If was interesting at first, but then it just seemed to ponder along. so\n"
     ]
    },
    {
     "data": {
      "text/plain": [
       "array(['NEGATIVE'], dtype='<U8')"
      ]
     },
     "execution_count": 106,
     "metadata": {},
     "output_type": "execute_result"
    }
   ],
   "source": [
    "from sklearn import svm\n",
    "\n",
    "clf_svm = svm.SVC(kernel='linear')\n",
    "\n",
    "clf_svm.fit(train_x_vectors, train_y)\n",
    "\n",
    "print(test_x[0])\n",
    "test_x_vector[0]\n",
    "\n",
    "clf_svm.predict(test_x_vector[0])"
   ]
  },
  {
   "cell_type": "code",
   "execution_count": 107,
   "id": "planned-slope",
   "metadata": {},
   "outputs": [
    {
     "data": {
      "text/plain": [
       "'POSITIVE'"
      ]
     },
     "execution_count": 107,
     "metadata": {},
     "output_type": "execute_result"
    }
   ],
   "source": [
    "pred_out = clf_svm.predict(test_x_vector)\n",
    "pred_out[10]"
   ]
  },
  {
   "cell_type": "code",
   "execution_count": 108,
   "id": "determined-deadline",
   "metadata": {},
   "outputs": [
    {
     "name": "stdout",
     "output_type": "stream",
     "text": [
      "              precision    recall  f1-score   support\n",
      "\n",
      "    NEGATIVE       0.80      0.82      0.81       208\n",
      "    POSITIVE       0.81      0.80      0.81       208\n",
      "\n",
      "    accuracy                           0.81       416\n",
      "   macro avg       0.81      0.81      0.81       416\n",
      "weighted avg       0.81      0.81      0.81       416\n",
      "\n"
     ]
    }
   ],
   "source": [
    "from sklearn.metrics import classification_report\n",
    "target_names = [Sentiment.NEGATIVE , Sentiment.POSITIVE]  #  Sentiment.NEUTRAL ,\n",
    "print(classification_report(test_y, pred_out, target_names=target_names))"
   ]
  },
  {
   "cell_type": "markdown",
   "id": "authorized-galaxy",
   "metadata": {},
   "source": [
    "### Decision Tree"
   ]
  },
  {
   "cell_type": "code",
   "execution_count": 109,
   "id": "massive-blanket",
   "metadata": {},
   "outputs": [
    {
     "data": {
      "text/plain": [
       "'POSITIVE'"
      ]
     },
     "execution_count": 109,
     "metadata": {},
     "output_type": "execute_result"
    }
   ],
   "source": [
    "from sklearn.model_selection import cross_val_score\n",
    "from sklearn.tree import DecisionTreeClassifier\n",
    "\n",
    "clf_dec = DecisionTreeClassifier()\n",
    "\n",
    "clf_dec.fit(train_x_vectors, train_y)\n",
    "\n",
    "dec_out = clf_dec.predict(test_x_vector)\n",
    "dec_out[10]"
   ]
  },
  {
   "cell_type": "markdown",
   "id": "analyzed-boring",
   "metadata": {},
   "source": [
    "### Naive bayes"
   ]
  },
  {
   "cell_type": "code",
   "execution_count": 110,
   "id": "liked-concept",
   "metadata": {},
   "outputs": [
    {
     "data": {
      "text/plain": [
       "'NEGATIVE'"
      ]
     },
     "execution_count": 110,
     "metadata": {},
     "output_type": "execute_result"
    }
   ],
   "source": [
    "from sklearn.naive_bayes import GaussianNB\n",
    "\n",
    "clf_nb = GaussianNB()\n",
    "\n",
    "clf_nb.fit(train_x_vectors.toarray(), train_y)\n",
    "\n",
    "nb_out = clf_nb.predict(test_x_vector.toarray())\n",
    "nb_out[10]"
   ]
  },
  {
   "cell_type": "markdown",
   "id": "vertical-allowance",
   "metadata": {},
   "source": [
    "### Logistic Regression"
   ]
  },
  {
   "cell_type": "code",
   "execution_count": 111,
   "id": "incomplete-prize",
   "metadata": {},
   "outputs": [
    {
     "data": {
      "text/plain": [
       "'POSITIVE'"
      ]
     },
     "execution_count": 111,
     "metadata": {},
     "output_type": "execute_result"
    }
   ],
   "source": [
    "from sklearn.linear_model import LogisticRegression\n",
    "\n",
    "clf_log = LogisticRegression()\n",
    "\n",
    "clf_log.fit(train_x_vectors, train_y)\n",
    "\n",
    "log_out = clf_log.predict(test_x_vector)\n",
    "log_out[10]"
   ]
  },
  {
   "cell_type": "markdown",
   "id": "musical-office",
   "metadata": {},
   "source": [
    "# Evaluation"
   ]
  },
  {
   "cell_type": "code",
   "execution_count": 112,
   "id": "stylish-receptor",
   "metadata": {},
   "outputs": [
    {
     "name": "stdout",
     "output_type": "stream",
     "text": [
      "Score for SVM model is ::  0.8076923076923077\n",
      "Score for decision tree model is ::  0.6346153846153846\n",
      "Score for Naive bayes model is ::  0.6610576923076923\n",
      "Score for logistic model is ::  0.8052884615384616\n"
     ]
    }
   ],
   "source": [
    "## Mean accuracy\n",
    "\n",
    "print(\"Score for SVM model is :: \",clf_svm.score(test_x_vector, test_y))\n",
    "print(\"Score for decision tree model is :: \",clf_dec.score(test_x_vector, test_y))\n",
    "print(\"Score for Naive bayes model is :: \",clf_nb.score(test_x_vector.toarray(), test_y))\n",
    "print(\"Score for logistic model is :: \",clf_log.score(test_x_vector, test_y))"
   ]
  },
  {
   "cell_type": "code",
   "execution_count": 113,
   "id": "committed-coral",
   "metadata": {},
   "outputs": [
    {
     "name": "stdout",
     "output_type": "stream",
     "text": [
      "F-score for SVM ::  [0.80582524 0.         0.80952381]\n",
      "F-score for decision tree ::  [0.62189055 0.         0.64651163]\n",
      "F-score naive bayes ::  [0.65693431 0.         0.66508314]\n",
      "F-score logistic regression ::  [0.80291971 0.         0.80760095]\n"
     ]
    },
    {
     "name": "stderr",
     "output_type": "stream",
     "text": [
      "C:\\Users\\Vijay S Chauhan\\Anaconda3\\lib\\site-packages\\sklearn\\metrics\\_classification.py:1493: UndefinedMetricWarning: F-score is ill-defined and being set to 0.0 in labels with no true nor predicted samples. Use `zero_division` parameter to control this behavior.\n",
      "  average, \"true nor predicted\", 'F-score is', len(true_sum)\n",
      "C:\\Users\\Vijay S Chauhan\\Anaconda3\\lib\\site-packages\\sklearn\\metrics\\_classification.py:1493: UndefinedMetricWarning: F-score is ill-defined and being set to 0.0 in labels with no true nor predicted samples. Use `zero_division` parameter to control this behavior.\n",
      "  average, \"true nor predicted\", 'F-score is', len(true_sum)\n",
      "C:\\Users\\Vijay S Chauhan\\Anaconda3\\lib\\site-packages\\sklearn\\metrics\\_classification.py:1493: UndefinedMetricWarning: F-score is ill-defined and being set to 0.0 in labels with no true nor predicted samples. Use `zero_division` parameter to control this behavior.\n",
      "  average, \"true nor predicted\", 'F-score is', len(true_sum)\n",
      "C:\\Users\\Vijay S Chauhan\\Anaconda3\\lib\\site-packages\\sklearn\\metrics\\_classification.py:1493: UndefinedMetricWarning: F-score is ill-defined and being set to 0.0 in labels with no true nor predicted samples. Use `zero_division` parameter to control this behavior.\n",
      "  average, \"true nor predicted\", 'F-score is', len(true_sum)\n"
     ]
    }
   ],
   "source": [
    "## F score\n",
    "from sklearn.metrics import f1_score\n",
    "\n",
    "print(\"F-score for SVM :: \",f1_score(test_y,pred_out, average=None, labels=[Sentiment.POSITIVE,Sentiment.NEUTRAL,Sentiment.NEGATIVE]))\n",
    "print(\"F-score for decision tree :: \",f1_score(test_y,dec_out, average=None, labels=[Sentiment.POSITIVE,Sentiment.NEUTRAL,Sentiment.NEGATIVE]))\n",
    "print(\"F-score naive bayes :: \",f1_score(test_y,nb_out, average=None, labels=[Sentiment.POSITIVE,Sentiment.NEUTRAL,Sentiment.NEGATIVE]))\n",
    "print(\"F-score logistic regression :: \",f1_score(test_y,log_out, average=None, labels=[Sentiment.POSITIVE,Sentiment.NEUTRAL,Sentiment.NEGATIVE]))"
   ]
  },
  {
   "cell_type": "code",
   "execution_count": 71,
   "id": "seventh-retreat",
   "metadata": {},
   "outputs": [
    {
     "name": "stdout",
     "output_type": "stream",
     "text": [
      "Counter({'POSITIVE': 5611, 'NEUTRAL': 653, 'NEGATIVE': 436})\n"
     ]
    }
   ],
   "source": [
    "import collections\n",
    "\n",
    "#train_y.count(Sentiment.POSITIVE)\n",
    "counter=collections.Counter(train_y)\n",
    "\n",
    "print(counter)\n",
    "# Counter({1: 4, 2: 4, 3: 2, 5: 2, 4: 1})"
   ]
  },
  {
   "cell_type": "code",
   "execution_count": 102,
   "id": "written-gross",
   "metadata": {},
   "outputs": [
    {
     "data": {
      "text/plain": [
       "array(['POSITIVE', 'NEGATIVE', 'NEGATIVE'], dtype='<U8')"
      ]
     },
     "execution_count": 102,
     "metadata": {},
     "output_type": "execute_result"
    }
   ],
   "source": [
    "test_set = ['I thoroughly enjoyed this, 5 stars', 'bad book do not buy','horrible waste of time']\n",
    "\n",
    "new_test = count_vect.transform(test_set)\n",
    "\n",
    "clf_svm.predict(new_test)"
   ]
  },
  {
   "cell_type": "markdown",
   "id": "macro-springfield",
   "metadata": {},
   "source": [
    "## Tuning our model(with Grid search)"
   ]
  },
  {
   "cell_type": "code",
   "execution_count": 119,
   "id": "hindu-spread",
   "metadata": {},
   "outputs": [
    {
     "data": {
      "text/plain": [
       "GridSearchCV(cv=5, estimator=SVC(),\n",
       "             param_grid={'C': (1, 4, 8, 16, 32), 'kernel': ('linear', 'rbf')})"
      ]
     },
     "execution_count": 119,
     "metadata": {},
     "output_type": "execute_result"
    }
   ],
   "source": [
    "from sklearn.model_selection import GridSearchCV\n",
    "\n",
    "parameters = {'kernel':('linear','rbf'), 'C':(1,4,8,16,32)}\n",
    "\n",
    "tuned_svm = svm.SVC()\n",
    "clf = GridSearchCV(tuned_svm, parameters, cv=5)\n",
    "\n",
    "clf.fit(train_x_vectors, train_y)\n",
    "\n",
    "#log_out = clf_log.predict(test_x_vector)\n",
    "#log_out[10]"
   ]
  },
  {
   "cell_type": "code",
   "execution_count": 120,
   "id": "fiscal-handle",
   "metadata": {},
   "outputs": [
    {
     "name": "stdout",
     "output_type": "stream",
     "text": [
      "Score for Grid search model is ::  0.8197115384615384\n"
     ]
    }
   ],
   "source": [
    "print(\"Score for Grid search model is :: \",clf.score(test_x_vector, test_y))"
   ]
  },
  {
   "cell_type": "markdown",
   "id": "determined-keyboard",
   "metadata": {},
   "source": [
    "# Saving model"
   ]
  },
  {
   "cell_type": "code",
   "execution_count": 122,
   "id": "smart-america",
   "metadata": {},
   "outputs": [],
   "source": [
    "import pickle\n",
    "\n",
    "with open('./models/sentiment_classifier.pkl', 'wb') as f:\n",
    "    pickle.dump(clf, f)"
   ]
  },
  {
   "cell_type": "markdown",
   "id": "smart-policy",
   "metadata": {},
   "source": [
    "### Load model"
   ]
  },
  {
   "cell_type": "code",
   "execution_count": 123,
   "id": "brave-longer",
   "metadata": {},
   "outputs": [],
   "source": [
    "with open('./models/sentiment_classifier.pkl', 'rb') as f:\n",
    "    loaded_clf=pickle.load(f)"
   ]
  },
  {
   "cell_type": "code",
   "execution_count": 126,
   "id": "pleased-friendly",
   "metadata": {},
   "outputs": [
    {
     "data": {
      "text/plain": [
       "'POSITIVE'"
      ]
     },
     "execution_count": 126,
     "metadata": {},
     "output_type": "execute_result"
    }
   ],
   "source": [
    "model_out = loaded_clf.predict(test_x_vector)\n",
    "\n",
    "model_out[10]"
   ]
  },
  {
   "cell_type": "code",
   "execution_count": 131,
   "id": "exclusive-blond",
   "metadata": {},
   "outputs": [
    {
     "name": "stdout",
     "output_type": "stream",
     "text": [
      "Put together a Greek fisherman/half assed detective named Socrates with some questionable characters and the recipe is funny and entertaining.\n"
     ]
    },
    {
     "data": {
      "text/plain": [
       "'POSITIVE'"
      ]
     },
     "execution_count": 131,
     "metadata": {},
     "output_type": "execute_result"
    }
   ],
   "source": [
    "print(test_x[9])\n",
    "model_out[9]"
   ]
  },
  {
   "cell_type": "code",
   "execution_count": 134,
   "id": "optical-option",
   "metadata": {},
   "outputs": [
    {
     "data": {
      "text/plain": [
       "<AxesSubplot:>"
      ]
     },
     "execution_count": 134,
     "metadata": {},
     "output_type": "execute_result"
    },
    {
     "data": {
      "image/png": "[encoded data removed]",
      "text/plain": [
       "<Figure size 432x288 with 2 Axes>"
      ]
     },
     "metadata": {
      "needs_background": "light"
     },
     "output_type": "display_data"
    }
   ],
   "source": [
    "from sklearn.metrics import confusion_matrix\n",
    "import seaborn as sn\n",
    "import pandas as pd\n",
    "import matplotlib as plt\n",
    "\n",
    "labels = [Sentiment.POSITIVE, Sentiment.NEGATIVE]\n",
    "\n",
    "cm = confusion_matrix(test_y, model_out, labels=labels)\n",
    "df_cm = pd.DataFrame(cm, index=labels, columns=labels)\n",
    "\n",
    "sn.heatmap(df_cm, annot=True, fmt='d')"
   ]
  },
  {
   "cell_type": "code",
   "execution_count": null,
   "id": "personal-pledge",
   "metadata": {},
   "outputs": [],
   "source": []
  }
 ],
 "metadata": {
  "kernelspec": {
   "display_name": "Python 3",
   "language": "python",
   "name": "python3"
  },
  "language_info": {
   "codemirror_mode": {
    "name": "ipython",
    "version": 3
   },
   "file_extension": ".py",
   "mimetype": "text/x-python",
   "name": "python",
   "nbconvert_exporter": "python",
   "pygments_lexer": "ipython3",
   "version": "3.7.4"
  }
 },
 "nbformat": 4,
 "nbformat_minor": 5
}
